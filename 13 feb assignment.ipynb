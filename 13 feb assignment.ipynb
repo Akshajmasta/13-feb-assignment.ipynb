{
 "cells": [
  {
   "attachments": {},
   "cell_type": "markdown",
   "metadata": {},
   "source": [
    "ANSWER 1"
   ]
  },
  {
   "attachments": {},
   "cell_type": "markdown",
   "metadata": {},
   "source": [
    "The Exception class is used as a base class for creating custom exceptions in Python. By inheriting from the Exception class, we can define a new type of exception that inherits all the functionality of the built-in exception classes. This makes it easier to handle custom exceptions in our code and also ensures that our custom exceptions are consistent with the rest of the Python exception hierarchy."
   ]
  },
  {
   "attachments": {},
   "cell_type": "markdown",
   "metadata": {},
   "source": [
    "ANSWER 2"
   ]
  },
  {
   "cell_type": "code",
   "execution_count": 20,
   "metadata": {},
   "outputs": [
    {
     "name": "stdout",
     "output_type": "stream",
     "text": [
      "InvalidInputError\n",
      "MyCustomException\n"
     ]
    }
   ],
   "source": [
    "import sys\n",
    "\n",
    "for name, obj in vars(sys.modules[__name__]).items():\n",
    "    if isinstance(obj, type) and issubclass(obj, BaseException):\n",
    "        print(name)\n"
   ]
  },
  {
   "attachments": {},
   "cell_type": "markdown",
   "metadata": {},
   "source": [
    "This program uses the vars() function to get a dictionary of all the objects defined in the current module, and then iterates over them to find all the classes that end with the string \"Error\" and are subclasses of the BaseException class. It then prints the names of these classes, which correspond to the different types of exceptions in the Python Exception Hierarchy."
   ]
  },
  {
   "attachments": {},
   "cell_type": "markdown",
   "metadata": {},
   "source": [
    "ANSWER 3"
   ]
  },
  {
   "attachments": {},
   "cell_type": "markdown",
   "metadata": {},
   "source": [
    "Python has two statements that are used to handle exceptions: try and except. The try statement is used to enclose the code that may raise an exception, and the except statement is used to handle the exception. Here's an example:"
   ]
  },
  {
   "cell_type": "code",
   "execution_count": 21,
   "metadata": {},
   "outputs": [
    {
     "name": "stdout",
     "output_type": "stream",
     "text": [
      "Cannot divide by zero\n"
     ]
    }
   ],
   "source": [
    "try:\n",
    "    x = 1 / 0\n",
    "except ZeroDivisionError:\n",
    "    print('Cannot divide by zero')\n"
   ]
  },
  {
   "attachments": {},
   "cell_type": "markdown",
   "metadata": {},
   "source": [
    "ANSWER 4"
   ]
  },
  {
   "attachments": {},
   "cell_type": "markdown",
   "metadata": {},
   "source": [
    ". The try, except, else, finally, and raise statements are used to handle exceptions in Python.\n",
    "\n",
    "try: encloses the code that may raise an exception.\n",
    "except: catches the exception and handles it.\n",
    "else: executes if no exceptions are raised in the try block.\n",
    "finally: executes regardless of whether an exception is raised or not.\n",
    "raise: raises an exception manually.\n",
    "Here's an example:"
   ]
  },
  {
   "cell_type": "code",
   "execution_count": 22,
   "metadata": {},
   "outputs": [
    {
     "name": "stdout",
     "output_type": "stream",
     "text": [
      "Cannot divide by zero\n",
      "This code will always execute\n"
     ]
    }
   ],
   "source": [
    "try:\n",
    "    x = 1 / 0\n",
    "except ZeroDivisionError:\n",
    "    print('Cannot divide by zero')\n",
    "else:\n",
    "    print('No exception was raised')\n",
    "finally:\n",
    "    print('This code will always execute')\n"
   ]
  },
  {
   "attachments": {},
   "cell_type": "markdown",
   "metadata": {},
   "source": [
    "In this example, we try to divide 1 by 0, which raises a ZeroDivisionError exception. We catch the exception with an except block, print a message, and then execute the finally block."
   ]
  },
  {
   "attachments": {},
   "cell_type": "markdown",
   "metadata": {},
   "source": [
    "ANSWER 5"
   ]
  },
  {
   "attachments": {},
   "cell_type": "markdown",
   "metadata": {},
   "source": [
    "Custom exceptions are exceptions that are created by the programmer. They are used when the built-in exceptions are not sufficient to handle specific errors that may occur in a program. We need custom exceptions to provide more specific and descriptive error messages to the user. Here's an example:"
   ]
  },
  {
   "cell_type": "code",
   "execution_count": 23,
   "metadata": {},
   "outputs": [
    {
     "name": "stdout",
     "output_type": "stream",
     "text": [
      "Input must be greater than zero\n"
     ]
    }
   ],
   "source": [
    "class InvalidInputError(Exception):\n",
    "    pass\n",
    "\n",
    "def calculate(x):\n",
    "    if x < 0:\n",
    "        raise InvalidInputError('Input must be greater than zero')\n",
    "    return x * 2\n",
    "\n",
    "try:\n",
    "    result = calculate(-1)\n",
    "except InvalidInputError as e:\n",
    "    print(e)\n"
   ]
  },
  {
   "attachments": {},
   "cell_type": "markdown",
   "metadata": {},
   "source": [
    "ANSWER 6"
   ]
  },
  {
   "attachments": {},
   "cell_type": "markdown",
   "metadata": {},
   "source": [
    "Here's an example of creating a custom exception class and using it to handle an exception:"
   ]
  },
  {
   "cell_type": "code",
   "execution_count": 24,
   "metadata": {},
   "outputs": [
    {
     "data": {
      "text/plain": [
       "11"
      ]
     },
     "execution_count": 24,
     "metadata": {},
     "output_type": "execute_result"
    }
   ],
   "source": [
    "class MyCustomException(Exception):\n",
    "    pass\n",
    "\n",
    "try:\n",
    "    x = input('Enter a number: ')\n",
    "    if not x.isnumeric():\n",
    "        raise MyCustomException('Invalid input')\n",
    "    x = int(x)\n",
    "except MyCustomException as e:\n",
    "    print\n"
   ]
  }
 ],
 "metadata": {
  "kernelspec": {
   "display_name": "Python 3",
   "language": "python",
   "name": "python3"
  },
  "language_info": {
   "codemirror_mode": {
    "name": "ipython",
    "version": 3
   },
   "file_extension": ".py",
   "mimetype": "text/x-python",
   "name": "python",
   "nbconvert_exporter": "python",
   "pygments_lexer": "ipython3",
   "version": "3.11.2"
  },
  "orig_nbformat": 4
 },
 "nbformat": 4,
 "nbformat_minor": 2
}
